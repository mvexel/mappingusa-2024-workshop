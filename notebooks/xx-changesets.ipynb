{
 "cells": [
  {
   "cell_type": "markdown",
   "metadata": {},
   "source": [
    "# Looking at OSM contributors\n",
    "\n",
    "OSM is made up by many thousands of active mappers. Some map every day, some only once, and everything in between. Examining mapping dynamics is a fun way to gain appreciation for the community that makes the awesome OSM map.\n",
    "\n",
    "Every time a mapper uploads changes to OSM, a new Changeset is created. A changeset can contain new things added, things modified and deleted. Each changeset also has useful metadata associated with it: who made the change, when, and where.\n",
    "\n",
    "Here's a very small changeset:\n",
    "\n",
    "```xml\n",
    "<changeset id=\"146427261\" created_at=\"2024-01-19T03:45:55Z\" closed_at=\"2024-01-19T03:45:56Z\" open=\"false\" user=\"mvexel\" uid=\"8909\" min_lat=\"40.7690926\" min_lon=\"-111.8567343\" max_lat=\"40.7690926\" max_lon=\"-111.8567343\" comments_count=\"0\" changes_count=\"1\">\n",
    "    <tag k=\"changesets_count\" v=\"22478\"/>\n",
    "    <tag k=\"comment\" v=\"add a tree\"/>\n",
    "    <tag k=\"created_by\" v=\"iD 2.27.3\"/>\n",
    "    <tag k=\"host\" v=\"https://www.openstreetmap.org/edit\"/>\n",
    "    <tag k=\"imagery_used\" v=\"Bing Maps Aerial\"/>\n",
    "    <tag k=\"locale\" v=\"en-US\"/>\n",
    "</changeset>\n",
    "```\n",
    "\n",
    "OSM has a big file with all changesets in history [for download](https://planet.osm.org/), but it's all in this XML format we don't like. We don't have to put up to this. I asked ChatGPT to come up with [a program](../code/convert_changesets_to_csv.py) to take this huge file and create a CSV file of just those changesets that fall into a bounding box I specify:\n",
    "\n",
    "![bounding box](../images/bounding-box.png)\n",
    "\n",
    "I let this churn on the big changesets file, which takes a few hours. "
   ]
  }
 ],
 "metadata": {
  "language_info": {
   "name": "python"
  }
 },
 "nbformat": 4,
 "nbformat_minor": 2
}
