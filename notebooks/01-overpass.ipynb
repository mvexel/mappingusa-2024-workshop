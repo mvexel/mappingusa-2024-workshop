{
 "cells": [
  {
   "cell_type": "markdown",
   "id": "132d4897-b8c4-4489-9b0c-b5c93f78afd4",
   "metadata": {
    "slideshow": {
     "slide_type": "slide"
    }
   },
   "source": [
    "## OSM data from Overpass \n",
    "For the first part, we will work with some data from the *Overpass API*. Overpass lets you query data from OSM to suit a lot of needs, including ours. We use the convenient [Overpass Turbo](https://overpass-turbo.eu/#) interface, which includes some special tricks that make our lives easier."
   ]
  },
  {
   "cell_type": "markdown",
   "id": "2fcae005",
   "metadata": {
    "slideshow": {
     "slide_type": "slide"
    }
   },
   "source": [
    "Let's start with the simplest query:\n",
    "\n",
    "```\n",
    "node(1);\n",
    "out;\n",
    "```\n",
    "[excute it here](https://overpass-turbo.eu/s/1G7f)"
   ]
  },
  {
   "cell_type": "markdown",
   "id": "bbd7d5f7",
   "metadata": {
    "slideshow": {
     "slide_type": "slide"
    }
   },
   "source": [
    "This simply fetches the the first node (point) ever in OpenStreetMap, the one with `id` of 1.\n",
    "(Fun fact: this node was not originally created at its current location, and it did not always represent a communications tower. Do not ever assume that objects in OSM are stable.)\n",
    "\n",
    "This is not very useful yet. Let's add a little flavor."
   ]
  },
  {
   "cell_type": "markdown",
   "id": "1989f71e",
   "metadata": {
    "slideshow": {
     "slide_type": "slide"
    }
   },
   "source": [
    "```\n",
    "node[shop]({{bbox}});\n",
    "out;\n",
    "```\n",
    "[execute it here](https://overpass-turbo.eu/s/1G7j)\n",
    "\n",
    "Now, we're fetching all the nodes that represent shops within the current map view on Overpass Turbo. So, the results you get will depend on the map view.\n",
    "\n",
    "![overpass map view](../images/overpass-1.png)\n"
   ]
  },
  {
   "cell_type": "markdown",
   "id": "ae82b6c8",
   "metadata": {
    "slideshow": {
     "slide_type": "slide"
    }
   },
   "source": [
    "This looks nice, but the data is not useful for analysis in its current form. It's just dots on a map.\n",
    "\n",
    "A button in the top right of the Overpass Turbo interface lets you switch between a map view and a data view. Let's have a look:"
   ]
  },
  {
   "cell_type": "markdown",
   "id": "27cc0989",
   "metadata": {
    "slideshow": {
     "slide_type": "slide"
    }
   },
   "source": [
    "![overpass data view](../images/overpass-2.png)\n",
    "\n",
    "Better! But this data is still pretty hard to work with. What we like as aspiring data scientists is **columnar data**, think spreadsheets. Overpass will output CSV data if you tell it to in the first line:"
   ]
  },
  {
   "cell_type": "markdown",
   "id": "d48d7297",
   "metadata": {
    "slideshow": {
     "slide_type": "slide"
    }
   },
   "source": [
    "\n",
    "```\n",
    "[out:csv(\"shop\",\"name\",::version,::timestamp,::lon,::lat)];\n",
    "node[shop]({{bbox}});\n",
    "out;\n",
    "```\n",
    "[execute it here](https://overpass-turbo.eu/s/1G7l)\n",
    "\n",
    "![overpass csv output](../images/overpass-3.png)\n",
    "\n",
    "It's not much, but we have some data we can work with! Let's move on to the next notebook.\n"
   ]
  }
 ],
 "metadata": {
  "kernelspec": {
   "display_name": "Python 3 (ipykernel)",
   "language": "python",
   "name": "python3"
  },
  "language_info": {
   "codemirror_mode": {
    "name": "ipython",
    "version": 3
   },
   "file_extension": ".py",
   "mimetype": "text/x-python",
   "name": "python",
   "nbconvert_exporter": "python",
   "pygments_lexer": "ipython3",
   "version": "3.11.6"
  }
 },
 "nbformat": 4,
 "nbformat_minor": 5
}
