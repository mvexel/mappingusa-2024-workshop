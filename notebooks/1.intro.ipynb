{
 "cells": [
  {
   "cell_type": "markdown",
   "id": "81cba7ac-6142-47ea-8f4a-2d4c63f91bf8",
   "metadata": {},
   "source": [
    "# 0. OpenStreetMap Data Visualization for Beginners (like me)\n",
    "\n",
    "In this workshop, we will learn some techniques to visualize OpenStreetMap data. \n",
    "\n",
    "There are many ways to go about this. We will use **Jupyter Notebooks**, an interactive data analysis and visualization environment that uses **Python**.\n",
    "\n",
    "1. It's interactive: you see results (and mistakes) right away.\n",
    "2. It's popular: there is a lot of help out there, and many tools to make your life easier.\n",
    "3. It's free: Everything is open source.\n",
    "\n",
    "At the end of this workshop, we will be able to make something like this:\n",
    "\n",
    "TODO insert graph we made.\n",
    "\n",
    "Before we continue, I would like to acknowledge, and recommend, the [excellent online book about \"Spatial Python\"](https://pygis.io/docs/a_intro.html) at PyGis.io. Unlike this workshop, which "
   ]
  },
  {
   "cell_type": "code",
   "execution_count": 6,
   "id": "cb89a482",
   "metadata": {},
   "outputs": [],
   "source": [
    "import csv\n",
    "\n",
    "import geopandas as gpd\n",
    "\n",
    "# read ../data/utah-newly-edited.csv into a geodataframe, first two columns are lon and lat, third column is OSM ID, fourth column is OSM type, fifth column is OSM username, sixth column is OSM version, seventh column is OSM timestamp\n",
    "\n",
    "df = gpd.read_file('../data/utah-newly-edited.csv')df = gpd.read_file('../data/utah-newly-edited.csv')"
   ]
  },
  {
   "cell_type": "code",
   "execution_count": 8,
   "id": "96570e59",
   "metadata": {},
   "outputs": [],
   "source": [
    "df['geometry'] = gpd.points_from_xy(df['@lon'], df['@lat'])"
   ]
  },
  {
   "cell_type": "code",
   "execution_count": 12,
   "id": "a2622fd3",
   "metadata": {},
   "outputs": [],
   "source": [
    "import folium\n",
    "from folium.plugins import HeatMap\n",
    "\n",
    "# create a map of Utah\n",
    "m = folium.Map(location=[39.5, -111.5], zoom_start=7)\n",
    "\n",
    "# we want a heatmap if the points\n",
    "\n",
    "\n",
    "# convert the geodataframe to a list of lists of lat, lon, intensity\n",
    "heat_data = [[row['@lat'],row['@lon'],1] for index, row in df.iterrows()]\n",
    "\n",
    "# plot the heatmap\n",
    "HeatMap(heat_data).add_to(m)\n",
    "\n",
    "# display the map inline\n",
    "m.save('../results/utah-newly-edited.html')"
   ]
  },
  {
   "cell_type": "code",
   "execution_count": null,
   "id": "e486510a",
   "metadata": {},
   "outputs": [],
   "source": [
    "# now filter just ways with the"
   ]
  }
 ],
 "metadata": {
  "kernelspec": {
   "display_name": "Python 3 (ipykernel)",
   "language": "python",
   "name": "python3"
  },
  "language_info": {
   "codemirror_mode": {
    "name": "ipython",
    "version": 3
   },
   "file_extension": ".py",
   "mimetype": "text/x-python",
   "name": "python",
   "nbconvert_exporter": "python",
   "pygments_lexer": "ipython3",
   "version": "3.10.13"
  }
 },
 "nbformat": 4,
 "nbformat_minor": 5
}
