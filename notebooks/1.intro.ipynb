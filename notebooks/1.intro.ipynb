{
 "cells": [
  {
   "cell_type": "markdown",
   "id": "81cba7ac-6142-47ea-8f4a-2d4c63f91bf8",
   "metadata": {},
   "source": [
    "# 0. OpenStreetMap Data Visualization for Beginners (like me)\n",
    "\n",
    "In this workshop, we will learn some techniques to visualize OpenStreetMap data. \n",
    "\n",
    "There are many ways to go about this. We will use **Jupyter Notebooks**, an interactive data analysis and visualization environment that uses **Python**.\n",
    "\n",
    "1. It's interactive: you see results (and mistakes) right away.\n",
    "2. It's popular: there is a lot of help out there, and many tools to make your life easier.\n",
    "3. It's free: Everything is open source.\n",
    "\n",
    "At the end of this workshop, we will be able to make something like this:\n",
    "\n",
    "TODO insert graph we made.\n",
    "\n",
    "Before we continue, I would like to acknowledge, and recommend, the [excellent online book about \"Spatial Python\"](https://pygis.io/docs/a_intro.html) at PyGis.io. Unlike this workshop, which "
   ]
  },
  {
   "cell_type": "markdown",
   "id": "99d49040-4516-47e7-8a50-e687ea6bfd40",
   "metadata": {},
   "source": [
    "# 1. Setting up our environment\n",
    "\n",
    "Let's get ourselves set up with Jupyter Notebooks.\n",
    "\n",
    "The easiest way to do this is by downloading [Anadonda](https://www.anaconda.com/download#downloads) and installing it.\n",
    "\n",
    "After you have done this, you can open a command line terminal and type\n",
    "\n",
    "```\n",
    "jupyter notebook\n",
    "```\n",
    "\n",
    "This will open a browser window where you can start a new Notebook, like the one you're seeing here.\n",
    "\n"
   ]
  },
  {
   "cell_type": "code",
   "execution_count": 14,
   "id": "0d3f0f6c",
   "metadata": {},
   "outputs": [
    {
     "name": "stderr",
     "output_type": "stream",
     "text": [
      "/Users/mvexel/.pyenv/versions/3.10.13/lib/python3.10/site-packages/overpass/api.py:126: SyntaxWarning: \"is not\" with a literal. Did you mean \"!=\"?\n",
      "  if responseformat is not \"geojson\":\n",
      "/Users/mvexel/.pyenv/versions/3.10.13/lib/python3.10/site-packages/overpass/api.py:126: SyntaxWarning: \"is not\" with a literal. Did you mean \"!=\"?\n",
      "  if responseformat is not \"geojson\":\n"
     ]
    },
    {
     "ename": "OverpassSyntaxError",
     "evalue": "[out:csv];\n[out:csv(::lon,::lat,::id,::type,::user,::version,::timestamp,highway)];\nrel[\"name\"=\"Utah\"];\nout geom;\nmap_to_area;\nnwr(if:count_tags()>0)(if:timestamp()>\"2023-12-01T00:00:00Z\")(area);\nout meta center;out body;",
     "output_type": "error",
     "traceback": [
      "\u001b[0;31m---------------------------------------------------------------------------\u001b[0m",
      "\u001b[0;31mOverpassSyntaxError\u001b[0m                       Traceback (most recent call last)",
      "Cell \u001b[0;32mIn[14], line 13\u001b[0m\n\u001b[1;32m      3\u001b[0m QUERY \u001b[38;5;241m=\u001b[39m \u001b[38;5;124m\"\"\"\u001b[39m\n\u001b[1;32m      4\u001b[0m \u001b[38;5;124m[out:csv(::lon,::lat,::id,::type,::user,::version,::timestamp,highway)];\u001b[39m\n\u001b[1;32m      5\u001b[0m \u001b[38;5;124mrel[\u001b[39m\u001b[38;5;124m\"\u001b[39m\u001b[38;5;124mname\u001b[39m\u001b[38;5;124m\"\u001b[39m\u001b[38;5;124m=\u001b[39m\u001b[38;5;124m\"\u001b[39m\u001b[38;5;124mUtah\u001b[39m\u001b[38;5;124m\"\u001b[39m\u001b[38;5;124m];\u001b[39m\n\u001b[0;32m   (...)\u001b[0m\n\u001b[1;32m      9\u001b[0m \u001b[38;5;124mout meta center;\u001b[39m\n\u001b[1;32m     10\u001b[0m \u001b[38;5;124m\"\"\"\u001b[39m\n\u001b[1;32m     12\u001b[0m api \u001b[38;5;241m=\u001b[39m overpass\u001b[38;5;241m.\u001b[39mAPI()\n\u001b[0;32m---> 13\u001b[0m response \u001b[38;5;241m=\u001b[39m \u001b[43mapi\u001b[49m\u001b[38;5;241;43m.\u001b[39;49m\u001b[43mget\u001b[49m\u001b[43m(\u001b[49m\u001b[43mQUERY\u001b[49m\u001b[43m,\u001b[49m\u001b[43m \u001b[49m\u001b[43mresponseformat\u001b[49m\u001b[38;5;241;43m=\u001b[39;49m\u001b[38;5;124;43m\"\u001b[39;49m\u001b[38;5;124;43mcsv\u001b[39;49m\u001b[38;5;124;43m\"\u001b[39;49m\u001b[43m)\u001b[49m\n\u001b[1;32m     14\u001b[0m \u001b[38;5;28mprint\u001b[39m(response)\n",
      "File \u001b[0;32m~/.pyenv/versions/3.10.13/lib/python3.10/site-packages/overpass/api.py:97\u001b[0m, in \u001b[0;36mAPI.get\u001b[0;34m(self, query, responseformat, verbosity, build)\u001b[0m\n\u001b[1;32m     94\u001b[0m     logging\u001b[38;5;241m.\u001b[39mgetLogger()\u001b[38;5;241m.\u001b[39minfo(query)\n\u001b[1;32m     96\u001b[0m \u001b[38;5;66;03m# Get the response from Overpass\u001b[39;00m\n\u001b[0;32m---> 97\u001b[0m r \u001b[38;5;241m=\u001b[39m \u001b[38;5;28;43mself\u001b[39;49m\u001b[38;5;241;43m.\u001b[39;49m\u001b[43m_get_from_overpass\u001b[49m\u001b[43m(\u001b[49m\u001b[43mfull_query\u001b[49m\u001b[43m)\u001b[49m\n\u001b[1;32m     98\u001b[0m content_type \u001b[38;5;241m=\u001b[39m r\u001b[38;5;241m.\u001b[39mheaders\u001b[38;5;241m.\u001b[39mget(\u001b[38;5;124m\"\u001b[39m\u001b[38;5;124mcontent-type\u001b[39m\u001b[38;5;124m\"\u001b[39m)\n\u001b[1;32m    100\u001b[0m \u001b[38;5;28;01mif\u001b[39;00m \u001b[38;5;28mself\u001b[39m\u001b[38;5;241m.\u001b[39mdebug:\n",
      "File \u001b[0;32m~/.pyenv/versions/3.10.13/lib/python3.10/site-packages/overpass/api.py:177\u001b[0m, in \u001b[0;36mAPI._get_from_overpass\u001b[0;34m(self, query)\u001b[0m\n\u001b[1;32m    175\u001b[0m \u001b[38;5;28;01mif\u001b[39;00m \u001b[38;5;28mself\u001b[39m\u001b[38;5;241m.\u001b[39m_status \u001b[38;5;241m!=\u001b[39m \u001b[38;5;241m200\u001b[39m:\n\u001b[1;32m    176\u001b[0m     \u001b[38;5;28;01mif\u001b[39;00m \u001b[38;5;28mself\u001b[39m\u001b[38;5;241m.\u001b[39m_status \u001b[38;5;241m==\u001b[39m \u001b[38;5;241m400\u001b[39m:\n\u001b[0;32m--> 177\u001b[0m         \u001b[38;5;28;01mraise\u001b[39;00m OverpassSyntaxError(query)\n\u001b[1;32m    178\u001b[0m     \u001b[38;5;28;01melif\u001b[39;00m \u001b[38;5;28mself\u001b[39m\u001b[38;5;241m.\u001b[39m_status \u001b[38;5;241m==\u001b[39m \u001b[38;5;241m429\u001b[39m:\n\u001b[1;32m    179\u001b[0m         \u001b[38;5;28;01mraise\u001b[39;00m MultipleRequestsError()\n",
      "\u001b[0;31mOverpassSyntaxError\u001b[0m: [out:csv];\n[out:csv(::lon,::lat,::id,::type,::user,::version,::timestamp,highway)];\nrel[\"name\"=\"Utah\"];\nout geom;\nmap_to_area;\nnwr(if:count_tags()>0)(if:timestamp()>\"2023-12-01T00:00:00Z\")(area);\nout meta center;out body;"
     ]
    }
   ],
   "source": [
    "import overpass\n",
    "\n",
    "QUERY = \"\"\"\n",
    "[out:csv(::lon,::lat,::id,::type,::user,::version,::timestamp,highway)];\n",
    "rel[\"name\"=\"Utah\"];\n",
    "out geom;\n",
    "map_to_area;\n",
    "nwr(if:count_tags()>0)(if:timestamp()>\"2023-12-01T00:00:00Z\")(area);\n",
    "out meta center;\n",
    "\"\"\"\n",
    "\n",
    "api = overpass.API()\n",
    "response = api.get(QUERY, responseformat=\"csv\")\n",
    "print(response)"
   ]
  },
  {
   "cell_type": "code",
   "execution_count": 6,
   "id": "cb89a482",
   "metadata": {},
   "outputs": [],
   "source": [
    "import csv\n",
    "\n",
    "import geopandas as gpd\n",
    "\n",
    "# read ../data/utah-newly-edited.csv into a geodataframe, first two columns are lon and lat, third column is OSM ID, fourth column is OSM type, fifth column is OSM username, sixth column is OSM version, seventh column is OSM timestamp\n",
    "\n",
    "df = gpd.read_file('../data/utah-newly-edited.csv')df = gpd.read_file('../data/utah-newly-edited.csv')"
   ]
  },
  {
   "cell_type": "code",
   "execution_count": 8,
   "id": "96570e59",
   "metadata": {},
   "outputs": [],
   "source": [
    "df['geometry'] = gpd.points_from_xy(df['@lon'], df['@lat'])"
   ]
  },
  {
   "cell_type": "code",
   "execution_count": 12,
   "id": "a2622fd3",
   "metadata": {},
   "outputs": [],
   "source": [
    "import folium\n",
    "from folium.plugins import HeatMap\n",
    "\n",
    "# create a map of Utah\n",
    "m = folium.Map(location=[39.5, -111.5], zoom_start=7)\n",
    "\n",
    "# we want a heatmap if the points\n",
    "\n",
    "\n",
    "# convert the geodataframe to a list of lists of lat, lon, intensity\n",
    "heat_data = [[row['@lat'],row['@lon'],1] for index, row in df.iterrows()]\n",
    "\n",
    "# plot the heatmap\n",
    "HeatMap(heat_data).add_to(m)\n",
    "\n",
    "# display the map inline\n",
    "m.save('../results/utah-newly-edited.html')"
   ]
  },
  {
   "cell_type": "code",
   "execution_count": null,
   "id": "e486510a",
   "metadata": {},
   "outputs": [],
   "source": [
    "# now filter just ways with the"
   ]
  }
 ],
 "metadata": {
  "kernelspec": {
   "display_name": "Python 3 (ipykernel)",
   "language": "python",
   "name": "python3"
  },
  "language_info": {
   "codemirror_mode": {
    "name": "ipython",
    "version": 3
   },
   "file_extension": ".py",
   "mimetype": "text/x-python",
   "name": "python",
   "nbconvert_exporter": "python",
   "pygments_lexer": "ipython3",
   "version": "3.10.13"
  }
 },
 "nbformat": 4,
 "nbformat_minor": 5
}
