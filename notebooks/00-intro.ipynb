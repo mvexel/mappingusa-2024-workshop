{
 "cells": [
  {
   "cell_type": "markdown",
   "id": "81cba7ac-6142-47ea-8f4a-2d4c63f91bf8",
   "metadata": {},
   "source": [
    "## Welcome to the OSM data analsyis workshop!\n",
    "\n",
    "In this workshop, we will learn some techniques to analyze and visualize OpenStreetMap data. \n",
    "\n",
    "There are many ways to go about this. We will use **Jupyter Notebooks**, an interactive data analysis and visualization environment that uses **Python**. Why?\n",
    "\n",
    "1. It's interactive: you see results (and mistakes) right away.\n",
    "2. It's popular: there is a lot of help out there, and many tools to make your life easier.\n",
    "3. It's free: Everything is open source.\n",
    "\n",
    "At the end of this workshop, we will be able to make something like this:\n",
    "\n",
    "TODO insert graph we made.\n",
    "\n",
    "Before we continue, I would like to acknowledge, and recommend, the [excellent online book about \"Spatial Python\"](https://pygis.io/docs/a_intro.html) at PyGis.io. Unlike this workshop, which "
   ]
  }
 ],
 "metadata": {
  "kernelspec": {
   "display_name": "Python 3 (ipykernel)",
   "language": "python",
   "name": "python3"
  },
  "language_info": {
   "codemirror_mode": {
    "name": "ipython",
    "version": 3
   },
   "file_extension": ".py",
   "mimetype": "text/x-python",
   "name": "python",
   "nbconvert_exporter": "python",
   "pygments_lexer": "ipython3",
   "version": "3.10.13"
  }
 },
 "nbformat": 4,
 "nbformat_minor": 5
}
