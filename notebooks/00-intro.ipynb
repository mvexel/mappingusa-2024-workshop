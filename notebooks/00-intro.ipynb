{
 "cells": [
  {
   "cell_type": "markdown",
   "id": "81cba7ac-6142-47ea-8f4a-2d4c63f91bf8",
   "metadata": {
    "editable": true,
    "slideshow": {
     "slide_type": "slide"
    },
    "tags": []
   },
   "source": [
    "## Welcome to the OSM data analsyis workshop!\n",
    "\n",
    "In this workshop, we will learn some techniques to analyze and visualize OpenStreetMap data. \n",
    "\n",
    "There are many ways to go about this. We will use **Jupyter Notebooks**, an interactive data analysis and visualization environment that uses **Python**. Why?\n",
    "\n",
    "1. It's interactive: you see results (and mistakes) right away.\n",
    "2. It's popular: there is a lot of help out there, and many tools to make your life easier.\n",
    "3. It's free: Everything is open source.\n",
    "\n"
   ]
  },
  {
   "cell_type": "markdown",
   "id": "9821a369",
   "metadata": {
    "editable": true,
    "slideshow": {
     "slide_type": "slide"
    },
    "tags": []
   },
   "source": [
    "At the end of this workshop, we will be able to make something like this:\n",
    "![chart](https://images.rtijn.org/2024/mappingusa-workshop/output.png)"
   ]
  },
  {
   "cell_type": "markdown",
   "id": "962562ef",
   "metadata": {
    "editable": true,
    "slideshow": {
     "slide_type": "slide"
    },
    "tags": []
   },
   "source": [
    "The aim of this workshop is not to teach you Python or using Jupyter. There are excellent tutorials that cover learning these things.\n",
    "\n",
    "Specifically I recommend the [excellent online book about \"Spatial Python\"](https://pygis.io/docs/a_intro.html) at PyGis.io."
   ]
  },
  {
   "cell_type": "markdown",
   "id": "171a366d-4f69-45d7-be36-77a106e10fd9",
   "metadata": {
    "editable": true,
    "slideshow": {
     "slide_type": "slide"
    },
    "tags": []
   },
   "source": [
    "## Agenda\n",
    "\n",
    "1. Getting OSM data via Overpass\n",
    "2. Manipulating data with Pandas\n",
    "3. Street network data with osmnx"
   ]
  },
  {
   "cell_type": "markdown",
   "id": "1082a95c-0953-4839-ae60-445f978578b3",
   "metadata": {
    "editable": true,
    "slideshow": {
     "slide_type": "slide"
    },
    "tags": []
   },
   "source": [
    "## Part 1. OSM data from Overpass \n",
    "For the first part, we will work with some data from the *Overpass API*. Overpass lets you query data from OSM to suit a lot of needs, including ours. We use the convenient [Overpass Turbo](https://overpass-turbo.eu/#) interface, which includes some special tricks that make our lives easier."
   ]
  },
  {
   "cell_type": "markdown",
   "id": "f4c5f0c5-b3a5-42eb-854f-958f29d1617d",
   "metadata": {
    "editable": true,
    "slideshow": {
     "slide_type": "slide"
    },
    "tags": []
   },
   "source": [
    "Let's start with the simplest Overpass query:\n",
    "\n",
    "```\n",
    "node(1);\n",
    "out;\n",
    "```\n",
    "[excute it here](https://overpass-turbo.eu/s/1G7f)"
   ]
  },
  {
   "attachments": {},
   "cell_type": "markdown",
   "id": "1f63aa39-1ef2-4b2c-adb7-d34097d94039",
   "metadata": {
    "editable": true,
    "slideshow": {
     "slide_type": "slide"
    },
    "tags": []
   },
   "source": [
    "This simply fetches the the first node (point) ever in OpenStreetMap, the one with `id` of 1.\n",
    "(Fun fact: this node was not originally created at its current location, and it did not always represent a communications tower. Do not ever assume that objects in OSM are stable.)\n",
    "\n",
    "![node 1 on the map](https://images.rtijn.org/2024/mappingusa-workshop/node1.png)\n",
    "\n",
    "This is not very useful yet. Let's add a little flavor."
   ]
  },
  {
   "cell_type": "markdown",
   "id": "d25684f6-11ba-4a53-b7bd-fb4fdf53336e",
   "metadata": {
    "editable": true,
    "slideshow": {
     "slide_type": "slide"
    },
    "tags": []
   },
   "source": [
    "```\n",
    "node[shop]({{bbox}});\n",
    "out;\n",
    "```\n",
    "[execute it here](https://overpass-turbo.eu/s/1G7j)\n"
   ]
  },
  {
   "cell_type": "markdown",
   "id": "b720133b-cec7-4a35-8aab-6c8949f877f2",
   "metadata": {
    "editable": true,
    "slideshow": {
     "slide_type": "slide"
    },
    "tags": []
   },
   "source": [
    "Now, we're fetching all the nodes that represent shops within the current map view on Overpass Turbo. So, the results you get will depend on the map view.\n",
    "\n",
    "![overpass map view](https://images.rtijn.org/2024/mappingusa-workshop/overpass-1.png)"
   ]
  },
  {
   "cell_type": "markdown",
   "id": "2f7699be-8d9d-42ad-9fa6-683d4dfd35c4",
   "metadata": {
    "editable": true,
    "slideshow": {
     "slide_type": "slide"
    },
    "tags": []
   },
   "source": [
    "This looks nice, but the data is not useful for analysis in its current form. It's just dots on a map.\n",
    "\n",
    "A button in the top right of the Overpass Turbo interface lets you switch between a map view and a data view. Let's have a look:"
   ]
  },
  {
   "cell_type": "markdown",
   "id": "fa80d66b-b5d6-41f5-8c88-8e290cb32c16",
   "metadata": {
    "editable": true,
    "slideshow": {
     "slide_type": "slide"
    },
    "tags": []
   },
   "source": [
    "![overpass data view](https://images.rtijn.org/2024/mappingusa-workshop/overpass-2.png)\n",
    "\n",
    "Better! But this data is still pretty hard to work with. What we like as aspiring data scientists is **columnar data**, think spreadsheets. "
   ]
  },
  {
   "cell_type": "markdown",
   "id": "615d53ad-e96d-4be6-95dd-a7f3d09f7196",
   "metadata": {
    "editable": true,
    "slideshow": {
     "slide_type": "slide"
    },
    "tags": []
   },
   "source": [
    "Overpass will output CSV data if you tell it to in the first line:\n",
    "\n",
    "```\n",
    "[out:csv(\"shop\",\"name\",::version,::timestamp,::lon,::lat)];\n",
    "node[shop]({{bbox}});\n",
    "out;\n",
    "```\n",
    "[execute it here](https://overpass-turbo.eu/s/1G7l)"
   ]
  },
  {
   "cell_type": "markdown",
   "id": "256616d0-344e-49e3-a715-2d5156f17ea6",
   "metadata": {
    "editable": true,
    "slideshow": {
     "slide_type": ""
    },
    "tags": []
   },
   "source": [
    "![overpass csv output](https://images.rtijn.org/2024/mappingusa-workshop/overpass-3.png)\n",
    "\n",
    "It's not much, but we have some data we can work with! Let's move on."
   ]
  },
  {
   "cell_type": "markdown",
   "id": "0353d359-d08a-4f17-bf99-272d251c7be5",
   "metadata": {
    "editable": true,
    "slideshow": {
     "slide_type": "slide"
    },
    "tags": []
   },
   "source": [
    "## Data processing with Pandas\n",
    "\n",
    "In the first notebook, we ended up with a small amount of CSV data to work with. Let's see what we can do with it.\n",
    "\n",
    "We will use `Pandas`, a Python module that specializes in reading, manipulating and analyzing large datasets.\n",
    "\n",
    "Let's import it into our environment."
   ]
  },
  {
   "cell_type": "code",
   "execution_count": null,
   "id": "72f73702-5549-42f1-9502-4af98ba52718",
   "metadata": {
    "editable": true,
    "slideshow": {
     "slide_type": "fragment"
    },
    "tags": []
   },
   "outputs": [],
   "source": [
    "import pandas as pd"
   ]
  },
  {
   "cell_type": "markdown",
   "id": "bdff8f69-68f3-4537-828f-58c198cddd59",
   "metadata": {
    "editable": true,
    "slideshow": {
     "slide_type": "slide"
    },
    "tags": []
   },
   "source": [
    "Cool.\n",
    "\n",
    "For the exercise, I saved the output in `data/shops.csv`. We will load it into a `Dataframe`. A Dataframe holds the data you want to work with, and you can perform all kinds of operations on it."
   ]
  },
  {
   "cell_type": "code",
   "execution_count": null,
   "id": "30140bfe-e0da-4681-8224-ee21f2e83229",
   "metadata": {
    "editable": true,
    "slideshow": {
     "slide_type": "fragment"
    },
    "tags": []
   },
   "outputs": [],
   "source": [
    "df_shops = pd.read_csv('data/shops.csv', delimiter='\\t')\n",
    "\n",
    "df_shops.head()"
   ]
  },
  {
   "cell_type": "markdown",
   "id": "74ae2058-0a2c-4cac-b16d-f976a616e33e",
   "metadata": {},
   "source": []
  },
  {
   "cell_type": "markdown",
   "id": "84b5ee48-ddf8-4829-827d-c7a31c32286d",
   "metadata": {
    "editable": true,
    "slideshow": {
     "slide_type": "slide"
    },
    "tags": []
   },
   "source": [
    "Very nice. \n",
    "\n",
    "In this workshop, I will gloss over some of the details, like the `delimiter` parameter in the command above. We're on a mission to see some results, and there are lots of resources to learn Pandas in depth.\n",
    "\n",
    "This dataset is small and quite boring, but we are working with real OSM data!\n",
    "\n",
    "To give you a flavor of what's possible, with a few lines of code, we can create a map of this data in our environment. Don't worry if you don't understand the code. We will start working with more interesting data in the next notebook."
   ]
  },
  {
   "cell_type": "code",
   "execution_count": null,
   "id": "e7b97305-e645-4bd5-b8f2-7da5989d9d90",
   "metadata": {
    "editable": true,
    "slideshow": {
     "slide_type": "slide"
    },
    "tags": []
   },
   "outputs": [],
   "source": [
    "# folium is a mapping library\n",
    "import folium\n",
    "\n",
    "# first, we create the map object and define its center as the mean of the coordinates\n",
    "# we choose a zoom level of 12\n",
    "m = folium.Map(location=[df_shops['@lat'].mean(), df_shops['@lon'].mean()], zoom_start=12)\n",
    "\n",
    "# we add a marker for each shop, with the name as a label\n",
    "for lat, lon, name in zip(df_shops['@lat'], df_shops['@lon'], df_shops['name']):\n",
    "    label = name\n",
    "    label = folium.Popup(label, parse_html=True)\n",
    "    folium.Marker(\n",
    "        location=[lat, lon],\n",
    "        popup=label,\n",
    "        icon=folium.Icon(color='blue', icon='shopping-cart', prefix='fa')\n",
    "    ).add_to(m)\n",
    "\n",
    "# display the map inline\n",
    "m"
   ]
  }
 ],
 "metadata": {
  "kernelspec": {
   "display_name": "Python 3 (ipykernel)",
   "language": "python",
   "name": "python3"
  },
  "language_info": {
   "codemirror_mode": {
    "name": "ipython",
    "version": 3
   },
   "file_extension": ".py",
   "mimetype": "text/x-python",
   "name": "python",
   "nbconvert_exporter": "python",
   "pygments_lexer": "ipython3",
   "version": "3.11.6"
  }
 },
 "nbformat": 4,
 "nbformat_minor": 5
}
